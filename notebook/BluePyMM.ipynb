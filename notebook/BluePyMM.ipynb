{
 "cells": [
  {
   "cell_type": "markdown",
   "metadata": {},
   "source": [
    "# BluePyMM\n",
    "\n",
    "This notebook will guide you through model management with the help of BluePyMM. This run is based on the test example *simple1*, which can be found in the folder *bluepymm/tests/examples/simple1*."
   ]
  },
  {
   "cell_type": "code",
   "execution_count": 7,
   "metadata": {
    "collapsed": true
   },
   "outputs": [],
   "source": [
    "import bluepymm\n",
    "import os\n",
    "import shutil\n",
    "from pprint import pprint\n",
    "import json"
   ]
  },
  {
   "cell_type": "code",
   "execution_count": 2,
   "metadata": {
    "collapsed": true
   },
   "outputs": [],
   "source": [
    "test_dir = \"../bluepymm/tests/examples/simple1/\""
   ]
  },
  {
   "cell_type": "markdown",
   "metadata": {},
   "source": [
    "Model management consists of three phases:\n",
    "1. [**prepare**](#prepare): processing of input data, finding all possible morphology/electrical model combinations (*me-combinations*), and preparation of a database\n",
    "2. [**run**](#run): run all me-combinations\n",
    "3. [**select**](#select): compare all me-combinations against input thresholds, select successful combinations and write them out to file; generate report"
   ]
  },
  {
   "cell_type": "markdown",
   "metadata": {},
   "source": [
    "## <a id='prepare'>Prepare me-combinations</a>\n",
    "\n",
    "In the preparation phase, the input data is processed, which consists of a morphology releases, a set of released e-models and a recipe that describes which layers, morphology types (*m-types*), and electrical types (*e-types*) should be tested."
   ]
  },
  {
   "cell_type": "code",
   "execution_count": 12,
   "metadata": {},
   "outputs": [
    {
     "name": "stdout",
     "output_type": "stream",
     "text": [
      "{u'emodel_etype_map_path': u'subdir/emodel_etype_map.json',\n",
      " u'emodels_dir': u'./data/emodels_dir',\n",
      " u'emodels_hoc_dir': u'./output/emodels_hoc',\n",
      " u'final_json_path': u'subdir/final.json',\n",
      " u'morph_path': u'./data/morphs',\n",
      " u'output_dir': u'./output/',\n",
      " u'recipe_path': u'./data/simple1_recipe.xml',\n",
      " u'scores_db': u'./output/scores.sqlite',\n",
      " u'tmp_dir': u'./tmp',\n",
      " u'version': u'1.0'}\n"
     ]
    }
   ],
   "source": [
    "# Input configuration\n",
    "prepare_config = \"simple1_conf_prepare.json\"\n",
    "\n",
    "with bluepymm.tools.cd(test_dir):\n",
    "    config = bluepymm.tools.load_json(prepare_config)\n",
    "\n",
    "# Inspect configuration\n",
    "pprint(config)"
   ]
  },
  {
   "cell_type": "code",
   "execution_count": 4,
   "metadata": {},
   "outputs": [
    {
     "name": "stdout",
     "output_type": "stream",
     "text": [
      "Reading configuration at simple1_conf_prepare.json\n",
      "Getting final emodels dict\n",
      "Preparing emodels in /Users/vanherpe/Code/nse/BluePyMM/bluepymm/tests/examples/simple1/tmp/emodels\n",
      "Parallelising preparation of emodel dirs\n",
      "Preparing: emodel2\n",
      "Preparing: emodel1\n",
      "Compiling mechanisms ...\n",
      "Compiling mechanisms ...\n",
      "Creating sqlite db at /Users/vanherpe/Code/nse/BluePyMM/bluepymm/tests/examples/simple1/output/scores.sqlite\n",
      "Reading recipe at ./data/simple1_recipe.xml\n",
      "Reading neuronDB at ./data/morphs/neuronDB.xml\n",
      "Merging recipe and neuronDB tables\n",
      "Creating emodel etype table\n",
      "Creating full table by merging subtables\n",
      "Filtering out morp_names that dont match regex\n",
      "Adding exemplar rows\n",
      "Adding exemplar row for emodel emodel2\n",
      "Adding exemplar row for emodel emodel1\n",
      "Created sqlite db at /Users/vanherpe/Code/nse/BluePyMM/bluepymm/tests/examples/simple1/output/scores.sqlite\n"
     ]
    }
   ],
   "source": [
    "with bluepymm.tools.cd(test_dir):\n",
    "    # Clean directories that could possibly clash with this run    \n",
    "    for d in [config['output_dir'], config['tmp_dir']]:\n",
    "        shutil.rmtree(d)\n",
    "\n",
    "    # Run combination preparation\n",
    "    bluepymm.prepare_combos.main.prepare_combos(conf_filename=prepare_config, continu=False)"
   ]
  },
  {
   "cell_type": "markdown",
   "metadata": {
    "collapsed": true
   },
   "source": [
    "## <a id='run'>Run me-combinations</a>\n",
    "\n",
    "In this phase, the all me-combinations as found in the SQLite database are run. The resulting scores are saved for later processing."
   ]
  },
  {
   "cell_type": "code",
   "execution_count": 13,
   "metadata": {},
   "outputs": [
    {
     "name": "stdout",
     "output_type": "stream",
     "text": [
      "{u'output_dir': u'./output/',\n",
      " u'scores_db': u'./output/scores.sqlite',\n",
      " u'version': u'1.0'}\n"
     ]
    }
   ],
   "source": [
    "# Input configuration\n",
    "run_config = \"simple1_conf_run.json\"\n",
    "\n",
    "with bluepymm.tools.cd(test_dir):\n",
    "    config = bluepymm.tools.load_json(run_config)\n",
    "\n",
    "# Inspect configuration\n",
    "pprint(config)"
   ]
  },
  {
   "cell_type": "code",
   "execution_count": 16,
   "metadata": {},
   "outputs": [
    {
     "name": "stdout",
     "output_type": "stream",
     "text": [
      "Reading configuration at simple1_conf_run.json\n",
      "Calculating scores\n",
      "Creating argument list for parallelisation\n",
      "Found 11 rows in score database to run\n",
      "Parallelising score evaluation of 11 me-combos\n",
      "Saved scores for uid 3 (1 out of 11) \n",
      "Saved scores for uid 0 (2 out of 11) \n",
      "Saved scores for uid 2 (3 out of 11) \n",
      "Saved scores for uid 1 (4 out of 11) \n",
      "Saved scores for uid 5 (5 out of 11) \n",
      "Saved scores for uid 4 (6 out of 11) \n",
      "Saved scores for uid 6 (7 out of 11) \n",
      "Saved scores for uid 7 (8 out of 11) \n",
      "Saved scores for uid 9 (9 out of 11) \n",
      "Saved scores for uid 8 (10 out of 11) \n",
      "Saved scores for uid 10 (11 out of 11) \n"
     ]
    }
   ],
   "source": [
    "with bluepymm.tools.cd(test_dir):\n",
    "    # Run combinations\n",
    "    bluepymm.run_combos.main.run_combos(conf_filename=run_config, ipyp=False, ipyp_profile=None)"
   ]
  },
  {
   "cell_type": "markdown",
   "metadata": {},
   "source": [
    "## <a id='select'>Select me-combinations</a>\n",
    "\n",
    "In the last phase, the scores of the simulated me-combinations are compared with input threshold values. The successful combinations are stored in database."
   ]
  },
  {
   "cell_type": "code",
   "execution_count": 17,
   "metadata": {
    "scrolled": true
   },
   "outputs": [
    {
     "name": "stdout",
     "output_type": "stream",
     "text": [
      "{u'check_opt_scores': True,\n",
      " u'combo_emodel_filename': u'output_megate/combo_model.csv',\n",
      " u'extneurondb_filename': u'output_megate/extNeuronDB.dat',\n",
      " u'megate_thresholds': [{u'emodel': [u'.*'],\n",
      "                         u'etype': [u'.*'],\n",
      "                         u'features': [u'.*'],\n",
      "                         u'fullmtype': [u'.*'],\n",
      "                         u'megate_threshold': 5}],\n",
      " u'mm_run_path': u'.',\n",
      " u'pdf_filename': u'output_megate/megating.pdf',\n",
      " u'plot_emodels_per_morphology': True,\n",
      " u'to_skip_features': [],\n",
      " u'version': u'1.0'}\n"
     ]
    }
   ],
   "source": [
    "# Input configuration\n",
    "select_config = \"simple1_conf_select.json\"\n",
    "\n",
    "with bluepymm.tools.cd(test_dir):\n",
    "    config = bluepymm.tools.load_json(select_config)\n",
    "\n",
    "# Inspect configuration\n",
    "pprint(config)"
   ]
  },
  {
   "cell_type": "code",
   "execution_count": 18,
   "metadata": {},
   "outputs": [
    {
     "name": "stdout",
     "output_type": "stream",
     "text": [
      "Reading scores from ./output/scores.sqlite ...\n",
      "Converting json strings to scores values ...\n",
      "Processing emodel emodel1\n",
      "Processing emodel emodel2\n",
      "Wrote pdf to output_megate/megating.pdf\n",
      "Wrote extneurondb to output_megate/extNeuronDB.dat\n",
      "Wrote combo_model to output_megate/combo_model.csv\n"
     ]
    }
   ],
   "source": [
    "with bluepymm.tools.cd(test_dir):\n",
    "    # Run combinations\n",
    "    bluepymm.select_combos.main.select_combos(conf_filename=select_config)"
   ]
  },
  {
   "cell_type": "code",
   "execution_count": null,
   "metadata": {
    "collapsed": true
   },
   "outputs": [],
   "source": []
  }
 ],
 "metadata": {
  "kernelspec": {
   "display_name": "Python 2",
   "language": "python",
   "name": "python2"
  },
  "language_info": {
   "codemirror_mode": {
    "name": "ipython",
    "version": 2
   },
   "file_extension": ".py",
   "mimetype": "text/x-python",
   "name": "python",
   "nbconvert_exporter": "python",
   "pygments_lexer": "ipython2",
   "version": "2.7.13"
  }
 },
 "nbformat": 4,
 "nbformat_minor": 2
}
