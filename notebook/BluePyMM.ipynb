{
 "cells": [
  {
   "cell_type": "markdown",
   "metadata": {},
   "source": [
    "# BluePyMM\n",
    "\n",
    "This notebook will guide you through model management with the help of BluePyMM. This run is based on the test example *simple1*, which can be found in the folder *bluepymm/tests/examples/simple1*."
   ]
  },
  {
   "cell_type": "code",
   "execution_count": 1,
   "metadata": {
    "collapsed": true
   },
   "outputs": [],
   "source": [
    "import bluepymm\n",
    "import os\n",
    "from pprint import pprint"
   ]
  },
  {
   "cell_type": "code",
   "execution_count": 2,
   "metadata": {
    "collapsed": true
   },
   "outputs": [],
   "source": [
    "test_dir = '../bluepymm/tests/examples/simple1/'"
   ]
  },
  {
   "cell_type": "markdown",
   "metadata": {},
   "source": [
    "Model management consists of three phases:\n",
    "1. [**prepare**](#prepare): processing of input data, finding all possible morphology/electrical model combinations (*me-combinations*), and preparation of a database\n",
    "2. [**run**](#run): run all me-combinations\n",
    "3. [**select**](#select): compare all me-combinations against input thresholds, select successful combinations and write them out to file; generate report"
   ]
  },
  {
   "cell_type": "markdown",
   "metadata": {},
   "source": [
    "## <a id='prepare'>Prepare me-combinations</a>\n",
    "\n",
    "In the preparation phase, the input data is processed, which consists of morphology releases, a set of released e-models and a recipe that describes which layers, morphology types (*m-types*), and electrical types (*e-types*) should be tested."
   ]
  },
  {
   "cell_type": "code",
   "execution_count": 3,
   "metadata": {},
   "outputs": [],
   "source": [
    "# Input configuration\n",
    "prepare_config = 'simple1_conf_prepare.json'\n",
    "\n",
    "with bluepymm.tools.cd(test_dir):\n",
    "    config = bluepymm.tools.load_json(prepare_config)\n",
    "\n",
    "# Inspect configuration\n",
    "pprint(config)"
   ]
  },
  {
   "cell_type": "code",
   "execution_count": 4,
   "metadata": {},
   "outputs": [],
   "source": [
    "with bluepymm.tools.cd(test_dir):\n",
    "    # Check directories that could possibly clash with this run    \n",
    "    for d in [config['output_dir'], config['tmp_dir']]:\n",
    "        if os.path.exists(d):\n",
    "            raise Exception('Directory {} already exists'.format(os.path.abspath(d)))\n",
    "\n",
    "    # Run combination preparation\n",
    "    bluepymm.prepare_combos.main.prepare_combos(conf_filename=prepare_config, continu=False)"
   ]
  },
  {
   "cell_type": "markdown",
   "metadata": {
    "collapsed": true
   },
   "source": [
    "## <a id='run'>Run me-combinations</a>\n",
    "\n",
    "In this phase, all the me-combinations as found in the SQLite database are run. The resulting scores are saved for later processing."
   ]
  },
  {
   "cell_type": "code",
   "execution_count": 5,
   "metadata": {
    "collapsed": true
   },
   "outputs": [],
   "source": [
    "# Input configuration\n",
    "run_config = 'simple1_conf_run.json'\n",
    "\n",
    "with bluepymm.tools.cd(test_dir):\n",
    "    config = bluepymm.tools.load_json(run_config)\n",
    "\n",
    "# Inspect configuration\n",
    "pprint(config)"
   ]
  },
  {
   "cell_type": "code",
   "execution_count": 6,
   "metadata": {
    "collapsed": true
   },
   "outputs": [],
   "source": [
    "with bluepymm.tools.cd(test_dir):\n",
    "    # Run combinations\n",
    "    bluepymm.run_combos.main.run_combos(conf_filename=run_config, ipyp=False, ipyp_profile=None)"
   ]
  },
  {
   "cell_type": "markdown",
   "metadata": {},
   "source": [
    "## <a id='select'>Select me-combinations</a>\n",
    "\n",
    "In the last phase, the scores of the simulated me-combinations are compared with input threshold values. The successful combinations are stored in database."
   ]
  },
  {
   "cell_type": "code",
   "execution_count": 7,
   "metadata": {
    "collapsed": true,
    "scrolled": true
   },
   "outputs": [],
   "source": [
    "# Input configuration\n",
    "select_config = 'simple1_conf_select.json'\n",
    "\n",
    "with bluepymm.tools.cd(test_dir):\n",
    "    config = bluepymm.tools.load_json(select_config)\n",
    "\n",
    "# Inspect configuration\n",
    "pprint(config)"
   ]
  },
  {
   "cell_type": "code",
   "execution_count": 8,
   "metadata": {
    "collapsed": true
   },
   "outputs": [],
   "source": [
    "with bluepymm.tools.cd(test_dir):\n",
    "    # Run combinations\n",
    "    bluepymm.select_combos.main.select_combos(conf_filename=select_config, n_processes=1)"
   ]
  },
  {
   "cell_type": "code",
   "execution_count": null,
   "metadata": {},
   "outputs": [],
   "source": []
  }
 ],
 "metadata": {
  "kernelspec": {
   "display_name": "Python 3 (ipykernel)",
   "language": "python",
   "name": "python3"
  },
  "language_info": {
   "codemirror_mode": {
    "name": "ipython",
    "version": 3
   },
   "file_extension": ".py",
   "mimetype": "text/x-python",
   "name": "python",
   "nbconvert_exporter": "python",
   "pygments_lexer": "ipython3",
   "version": "3.8.3"
  }
 },
 "nbformat": 4,
 "nbformat_minor": 4
}
